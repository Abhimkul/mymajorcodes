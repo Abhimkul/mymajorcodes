{
 "cells": [
  {
   "cell_type": "code",
   "execution_count": 28,
   "metadata": {},
   "outputs": [],
   "source": [
    "#Conversion for scaling\n",
    "\n",
    "MeV = 1 \n",
    "GeV = 1000*MeV\n",
    "fm  = 1\n",
    "c   = 1\n",
    "metres = (10**15)*fm\n",
    "km = 1000*metres\n",
    "second = 2.99*(10**8)*metres\n",
    "kg = (second**2)/((1.6*(10**(-13)))*((metres)**2))\n",
    "G = 6.67*10**(-11)*((metres)**3)/(kg*(second)**2)"
   ]
  },
  {
   "cell_type": "code",
   "execution_count": 29,
   "metadata": {},
   "outputs": [
    {
     "data": {
      "text/plain": [
       "Text(0, 0.5, 'm')"
      ]
     },
     "execution_count": 29,
     "metadata": {},
     "output_type": "execute_result"
    },
    {
     "data": {
      "image/png": "[encoded data removed]",
      "text/plain": [
       "<Figure size 432x288 with 1 Axes>"
      ]
     },
     "metadata": {
      "needs_background": "light"
     },
     "output_type": "display_data"
    }
   ],
   "source": [
    "import numpy as np\n",
    "import math\n",
    "import matplotlib.pyplot as plot\n",
    "from scipy.integrate import odeint\n",
    "\n",
    "kappa =  0.05\n",
    "GA =  5/3\n",
    "mbar = 1.66*(10**-27)*kg\n",
    "k = kappa*(mbar)*((0.1*(fm)**-3)**(1 - GA))\n",
    "pi = math.pi\n",
    "\n",
    "\n",
    "#Defining the values in terms\n",
    "Rs = ((2*G*(1.98847*(10**30)*kg))/((c**2)))\n",
    "K1 =  ((4*pi*(Rs**3))/(1.98847*((10**30)*kg)*(c**2)))*(GeV/(fm)**3)\n",
    "\n",
    "\n",
    "def f(x,P):\n",
    "    m,r = x\n",
    "    d = (mbar*((P*(GeV))/k)**(1/GA) + (P*(GeV))/(GA - 1))/(GeV)\n",
    "    dmdp = -(2*K1*(r**3)*d*(r-m))/((d + P)*(m + K1*P*(r**3)))\n",
    "    drdp = -(2*r*(r - m))/((d + P)*(m + K1*P*(r**3)))\n",
    "    return [dmdp , drdp]\n",
    "\n",
    "#Initials - Pc and dp in natural units \n",
    "import math \n",
    "pi = math.pi\n",
    "\n",
    "def R0(Pc,dp):\n",
    "    dc = (mbar*(Pc*(GeV)/k)**(1/GA) + (Pc*(GeV)/(GA - 1)))/(GeV)\n",
    "    #print(dc)\n",
    "    P = Pc - dp \n",
    "    d = (mbar*(P*GeV/k)**(1/GA) +(P*GeV/(GA - 1)))/GeV\n",
    "    nc = (((Pc*GeV)/k)**(1/GA))/GeV\n",
    "    n = (((P*GeV)/k)**(1/GA))/GeV\n",
    "    return  (((3/(2*pi*(3*Pc + dc)))*((math.log((dc + Pc)*n) - ((math.log((d + P)*nc)))))))**(0.5)\n",
    "\n",
    "def M0(Pc,dp):\n",
    "    dc = (mbar*(Pc*(GeV)/k)**(1/GA) + (Pc*(GeV)/(GA - 1)))/(GeV)\n",
    "    P = Pc - dp\n",
    "    d = (mbar*(P*GeV/k)**(1/GA) +(P*GeV/(GA - 1)))/GeV\n",
    "    nc = (((Pc*GeV)/k)**(1/GA))/GeV\n",
    "    n = (((P*GeV)/k)**(1/GA))/GeV\n",
    "    return ((((((math.log((dc + Pc)*n) -((math.log((d + P)*nc)))))*(2*dc/(3*Pc + dc))))))*R0(Pc,dp)\n",
    "  \n",
    "#Initials\n",
    "dp =1e-12\n",
    "Ro =  R0(Pc = 0.01/GeV,  dp = dp)\n",
    "Mo =  M0(Pc = 0.01/GeV,  dp = dp)\n",
    "x0 = [Mo,Ro]\n",
    "\n",
    "#P0 = Pc- dp\n",
    "P0 = 0.01/GeV - dp\n",
    "        \n",
    "        \n",
    "P = np.linspace(1e-6, P0, 100000)\n",
    "        \n",
    "solve = odeint(f,x0, P[::-1])\n",
    "        \n",
    "m =solve[:,0]\n",
    "r = solve[:,1]\n",
    "\n",
    "\n",
    "plot.plot(r, m) \n",
    "plot.xlabel(\"r\")\n",
    "plot.ylabel(\"m\")\n",
    "#plot.legend()\n",
    "# plot.show()\n",
    "# plot.ylim(0,0.25*10**-6)\n",
    "\n"
   ]
  },
  {
   "cell_type": "code",
   "execution_count": 30,
   "metadata": {},
   "outputs": [
    {
     "data": {
      "text/plain": [
       "(0.00029204725430716547,\n",
       " 2.4478447263651967e-13,\n",
       " 2.967102135322871e+18,\n",
       " 0.29543770104625694)"
      ]
     },
     "execution_count": 30,
     "metadata": {},
     "output_type": "execute_result"
    }
   ],
   "source": [
    "Ro,Mo,Rs, K1\n"
   ]
  },
  {
   "cell_type": "code",
   "execution_count": 31,
   "metadata": {},
   "outputs": [
    {
     "name": "stdout",
     "output_type": "stream",
     "text": [
      "1.6932029637650103\n"
     ]
    },
    {
     "data": {
      "image/png": "[encoded data removed]",
      "text/plain": [
       "<Figure size 432x288 with 1 Axes>"
      ]
     },
     "metadata": {
      "needs_background": "light"
     },
     "output_type": "display_data"
    }
   ],
   "source": [
    "#Central Pressure\n",
    "\n",
    "M = []\n",
    "R = []\n",
    "dp =1e-12\n",
    "\n",
    "Pc = np.logspace(-2,5,1000)\n",
    "\n",
    "for i in Pc:\n",
    "    \n",
    "  #Initials\n",
    "  Ro =  R0(Pc = i/GeV,  dp = dp)\n",
    "  Mo =  M0(Pc = i/GeV,  dp = dp)\n",
    "  x0 = [Mo,Ro]\n",
    "\n",
    "  #P0 = Pc- dp\n",
    "  P0 = i/GeV - dp\n",
    "  #print(P0)\n",
    "  P = np.linspace(1e-12, P0, 1000)\n",
    "\n",
    "  solve = odeint(f,x0, P[::-1])\n",
    "\n",
    "  m =solve[:,0]\n",
    "  r = solve[:,1]\n",
    "\n",
    "  M.append(m[-1])\n",
    "  R.append(r[-1]*Rs/km)  \n",
    "  \n",
    "M\n",
    "R\n",
    "plot.plot(R,M, label = \"k = 0.05| $\\Gamma$ = 5/3\")\n",
    "plot.legend()\n",
    "plot.xlabel(\"R\")\n",
    "plot.ylabel(\"M\")\n",
    "#plot.xlim(34.25,34.5)\n",
    "#plot.ylim(9.6,9.7)\n",
    "print(np.max(M))"
   ]
  },
  {
   "cell_type": "code",
   "execution_count": 32,
   "metadata": {},
   "outputs": [
    {
     "name": "stdout",
     "output_type": "stream",
     "text": [
      "Value of Mmax is 1.6932052735380692\n"
     ]
    }
   ],
   "source": [
    "#Finding the M_max and R_max \n",
    "\n",
    "from scipy.optimize import minimize\n",
    "\n",
    "def f1(_Pc):\n",
    "    Pc = _Pc[0]\n",
    "    Ro =  R0(Pc = Pc/GeV,  dp = dp)\n",
    "    Mo =  M0(Pc = Pc/GeV,  dp = dp)\n",
    "    x_i = [Mo,Ro]\n",
    "\n",
    "    #P0 = Pc- dp\n",
    "    P0 = Pc/GeV - dp\n",
    "    #print(P0)\n",
    "    P = np.linspace(1e-12, P0, 1000)\n",
    "\n",
    "    solve = odeint(f,x_i, P[::-1])\n",
    "\n",
    "    m = solve[:,0]\n",
    "    r = solve[:,1]\n",
    "\n",
    "    M = (m[-1])\n",
    "    R = (r[-1])*(Rs/km)\n",
    "\n",
    "    return -M \n",
    "    \n",
    "    \n",
    "x0 = 15\n",
    "\n",
    "result = minimize(f1 , x0, method='Nelder-Mead')\n",
    "print(\"Value of Mmax is\",-result.fun)"
   ]
  }
 ],
 "metadata": {
  "kernelspec": {
   "display_name": "base",
   "language": "python",
   "name": "python3"
  },
  "language_info": {
   "codemirror_mode": {
    "name": "ipython",
    "version": 3
   },
   "file_extension": ".py",
   "mimetype": "text/x-python",
   "name": "python",
   "nbconvert_exporter": "python",
   "pygments_lexer": "ipython3",
   "version": "3.9.7"
  }
 },
 "nbformat": 4,
 "nbformat_minor": 2
}
